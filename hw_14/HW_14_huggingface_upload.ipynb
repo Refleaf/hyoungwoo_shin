{
 "cells": [
  {
   "cell_type": "code",
   "execution_count": 173,
   "metadata": {},
   "outputs": [],
   "source": [
    "import pandas as pd "
   ]
  },
  {
   "cell_type": "code",
   "execution_count": 174,
   "metadata": {},
   "outputs": [],
   "source": [
    "# Read the online retail dataset\n",
    "data = pd.read_csv('amazon.csv')\n",
    "df = data[:100].copy()\n",
    "df.dropna(subset=['rating_count'], inplace=True)\n",
    "\n",
    "df['sub_category'] = df['category'].astype(str).str.split('|').str[-1]\n",
    "df['main_category'] = df['category'].astype(str).str.split('|').str[0]"
   ]
  },
  {
   "cell_type": "code",
   "execution_count": 175,
   "metadata": {},
   "outputs": [
    {
     "data": {
      "text/plain": [
       "Index(['product_id', 'product_name', 'category', 'discounted_price',\n",
       "       'actual_price', 'discount_percentage', 'rating', 'rating_count',\n",
       "       'about_product', 'user_id', 'user_name', 'review_id', 'review_title',\n",
       "       'review_content', 'img_link', 'product_link', 'sub_category',\n",
       "       'main_category'],\n",
       "      dtype='object')"
      ]
     },
     "execution_count": 175,
     "metadata": {},
     "output_type": "execute_result"
    }
   ],
   "source": [
    "df.columns"
   ]
  },
  {
   "cell_type": "code",
   "execution_count": 176,
   "metadata": {},
   "outputs": [],
   "source": [
    "df1 = df.copy()\n",
    "df1['product_name'] = df1['product_name'].str.lower() \n",
    "df1 = df1.drop_duplicates(subset=['product_name'])    # Remove duplicates based on 'product_name'"
   ]
  },
  {
   "cell_type": "code",
   "execution_count": 177,
   "metadata": {},
   "outputs": [
    {
     "name": "stdout",
     "output_type": "stream",
     "text": [
      "(100, 18)\n",
      "(100, 18)\n"
     ]
    }
   ],
   "source": [
    "print(df.shape)\n",
    "print(df1.shape)"
   ]
  },
  {
   "cell_type": "code",
   "execution_count": 178,
   "metadata": {},
   "outputs": [
    {
     "data": {
      "text/plain": [
       "'wayona nylon braided usb to lightning fast charging and data sync cable compatible for iphone 13, 12,11, x, 8, 7, 6, 5, ipad air, pro, mini (3 ft pack of 1, grey)'"
      ]
     },
     "execution_count": 178,
     "metadata": {},
     "output_type": "execute_result"
    }
   ],
   "source": [
    "df1['product_name'][0]"
   ]
  },
  {
   "cell_type": "code",
   "execution_count": 179,
   "metadata": {},
   "outputs": [
    {
     "data": {
      "text/plain": [
       "0     High Compatibility : Compatible With iPhone 12...\n",
       "1     Compatible with all Type C enabled devices, be...\n",
       "2     【 Fast Charger& Data Sync】-With built-in safet...\n",
       "3     The boAt Deuce USB 300 2 in 1 cable is compati...\n",
       "4     [CHARGE & SYNC FUNCTION]- This cable comes wit...\n",
       "                            ...                        \n",
       "95    Supports 150Mbps Wireless data transmission ra...\n",
       "96    Compatible with MI Smart TV 4A 32 inch LED TV ...\n",
       "97    The cable comes with 3 Different pins allowing...\n",
       "98    Fastest USB 3.0 and Gigabit solution ensure hi...\n",
       "99    【Power Delivery Fast Charging】: Charge your iP...\n",
       "Name: about_product, Length: 100, dtype: object"
      ]
     },
     "execution_count": 179,
     "metadata": {},
     "output_type": "execute_result"
    }
   ],
   "source": [
    "df1['about_product']"
   ]
  },
  {
   "cell_type": "code",
   "execution_count": 180,
   "metadata": {},
   "outputs": [],
   "source": [
    "df2 = df1[['product_id','product_name', 'about_product','main_category','sub_category', 'actual_price','discount_percentage','rating','rating_count' ]]"
   ]
  },
  {
   "cell_type": "code",
   "execution_count": 181,
   "metadata": {},
   "outputs": [
    {
     "data": {
      "text/html": [
       "<div>\n",
       "<style scoped>\n",
       "    .dataframe tbody tr th:only-of-type {\n",
       "        vertical-align: middle;\n",
       "    }\n",
       "\n",
       "    .dataframe tbody tr th {\n",
       "        vertical-align: top;\n",
       "    }\n",
       "\n",
       "    .dataframe thead th {\n",
       "        text-align: right;\n",
       "    }\n",
       "</style>\n",
       "<table border=\"1\" class=\"dataframe\">\n",
       "  <thead>\n",
       "    <tr style=\"text-align: right;\">\n",
       "      <th></th>\n",
       "      <th>product_id</th>\n",
       "      <th>product_name</th>\n",
       "      <th>about_product</th>\n",
       "      <th>main_category</th>\n",
       "      <th>sub_category</th>\n",
       "      <th>actual_price</th>\n",
       "      <th>discount_percentage</th>\n",
       "      <th>rating</th>\n",
       "      <th>rating_count</th>\n",
       "    </tr>\n",
       "  </thead>\n",
       "  <tbody>\n",
       "    <tr>\n",
       "      <th>0</th>\n",
       "      <td>B07JW9H4J1</td>\n",
       "      <td>wayona nylon braided usb to lightning fast cha...</td>\n",
       "      <td>High Compatibility : Compatible With iPhone 12...</td>\n",
       "      <td>Computers&amp;Accessories</td>\n",
       "      <td>USBCables</td>\n",
       "      <td>₹1,099</td>\n",
       "      <td>64%</td>\n",
       "      <td>4.2</td>\n",
       "      <td>24,269</td>\n",
       "    </tr>\n",
       "    <tr>\n",
       "      <th>1</th>\n",
       "      <td>B098NS6PVG</td>\n",
       "      <td>ambrane unbreakable 60w / 3a fast charging 1.5...</td>\n",
       "      <td>Compatible with all Type C enabled devices, be...</td>\n",
       "      <td>Computers&amp;Accessories</td>\n",
       "      <td>USBCables</td>\n",
       "      <td>₹349</td>\n",
       "      <td>43%</td>\n",
       "      <td>4.0</td>\n",
       "      <td>43,994</td>\n",
       "    </tr>\n",
       "    <tr>\n",
       "      <th>2</th>\n",
       "      <td>B096MSW6CT</td>\n",
       "      <td>sounce fast phone charging cable &amp; data sync u...</td>\n",
       "      <td>【 Fast Charger&amp; Data Sync】-With built-in safet...</td>\n",
       "      <td>Computers&amp;Accessories</td>\n",
       "      <td>USBCables</td>\n",
       "      <td>₹1,899</td>\n",
       "      <td>90%</td>\n",
       "      <td>3.9</td>\n",
       "      <td>7,928</td>\n",
       "    </tr>\n",
       "    <tr>\n",
       "      <th>3</th>\n",
       "      <td>B08HDJ86NZ</td>\n",
       "      <td>boat deuce usb 300 2 in 1 type-c &amp; micro usb s...</td>\n",
       "      <td>The boAt Deuce USB 300 2 in 1 cable is compati...</td>\n",
       "      <td>Computers&amp;Accessories</td>\n",
       "      <td>USBCables</td>\n",
       "      <td>₹699</td>\n",
       "      <td>53%</td>\n",
       "      <td>4.2</td>\n",
       "      <td>94,363</td>\n",
       "    </tr>\n",
       "    <tr>\n",
       "      <th>4</th>\n",
       "      <td>B08CF3B7N1</td>\n",
       "      <td>portronics konnect l 1.2m fast charging 3a 8 p...</td>\n",
       "      <td>[CHARGE &amp; SYNC FUNCTION]- This cable comes wit...</td>\n",
       "      <td>Computers&amp;Accessories</td>\n",
       "      <td>USBCables</td>\n",
       "      <td>₹399</td>\n",
       "      <td>61%</td>\n",
       "      <td>4.2</td>\n",
       "      <td>16,905</td>\n",
       "    </tr>\n",
       "  </tbody>\n",
       "</table>\n",
       "</div>"
      ],
      "text/plain": [
       "   product_id                                       product_name  \\\n",
       "0  B07JW9H4J1  wayona nylon braided usb to lightning fast cha...   \n",
       "1  B098NS6PVG  ambrane unbreakable 60w / 3a fast charging 1.5...   \n",
       "2  B096MSW6CT  sounce fast phone charging cable & data sync u...   \n",
       "3  B08HDJ86NZ  boat deuce usb 300 2 in 1 type-c & micro usb s...   \n",
       "4  B08CF3B7N1  portronics konnect l 1.2m fast charging 3a 8 p...   \n",
       "\n",
       "                                       about_product          main_category  \\\n",
       "0  High Compatibility : Compatible With iPhone 12...  Computers&Accessories   \n",
       "1  Compatible with all Type C enabled devices, be...  Computers&Accessories   \n",
       "2  【 Fast Charger& Data Sync】-With built-in safet...  Computers&Accessories   \n",
       "3  The boAt Deuce USB 300 2 in 1 cable is compati...  Computers&Accessories   \n",
       "4  [CHARGE & SYNC FUNCTION]- This cable comes wit...  Computers&Accessories   \n",
       "\n",
       "  sub_category actual_price discount_percentage rating rating_count  \n",
       "0    USBCables       ₹1,099                 64%    4.2       24,269  \n",
       "1    USBCables         ₹349                 43%    4.0       43,994  \n",
       "2    USBCables       ₹1,899                 90%    3.9        7,928  \n",
       "3    USBCables         ₹699                 53%    4.2       94,363  \n",
       "4    USBCables         ₹399                 61%    4.2       16,905  "
      ]
     },
     "execution_count": 181,
     "metadata": {},
     "output_type": "execute_result"
    }
   ],
   "source": [
    "df2.head()"
   ]
  },
  {
   "cell_type": "code",
   "execution_count": 182,
   "metadata": {},
   "outputs": [],
   "source": [
    "df2.to_csv('amazon_rag.csv', index=False)"
   ]
  },
  {
   "cell_type": "markdown",
   "metadata": {},
   "source": [
    "### 문서 불러오기\n",
    "- 문서 데이터 유형\n",
    "- CSVLoader CSV 파일\n",
    "- 디렉토리로더 지정된 디렉토리의 모든 파일\n",
    "- 비정형 많은 파일 유형(https://docs.unstructured.io/platform/supported-file-types) 참조)\n",
    "- JSONLoader JSON 파일\n",
    "- BSHTMLL로더 HTML 파일"
   ]
  },
  {
   "cell_type": "code",
   "execution_count": 183,
   "metadata": {},
   "outputs": [],
   "source": [
    "# from langchain.document_loaders.csv_loader import CSVLoader\n",
    "# from langchain_community.document_loaders import DirectoryLoader, TextLoader\n",
    "# from langchain_community.document_loaders import NotionDirectoryLoader, NotionDBLoader\n",
    "\n",
    "# loader = DirectoryLoader(\"../\", glob=\"**/*.md\", loader_cls=TextLoader)\n",
    "# docs = loader.load()"
   ]
  },
  {
   "cell_type": "code",
   "execution_count": 184,
   "metadata": {},
   "outputs": [],
   "source": [
    "from typing import List\n",
    "from dotenv import load_dotenv\n",
    "import os\n",
    "\n",
    "from langchain.embeddings.huggingface_hub import HuggingFaceHubEmbeddings\n",
    "from sentence_transformers import SentenceTransformer\n",
    "from langchain.document_loaders.csv_loader import CSVLoader\n",
    "from langchain.vectorstores import Chroma\n",
    "from langchain.schema.document import Document\n",
    "\n",
    "\n",
    "# This will expose your Langchain api token as an environment variable\n",
    "load_dotenv()\n",
    "\n",
    "# def read_csv(file_path: str, source_column: str = \"about_product\") -> List[Document]:\n",
    "def read_csv(file_path: str, source_column: str = \"product_name\") -> List[Document]:\n",
    "    \"\"\"Reads a CSV file and returns a list of Documents.\n",
    "\n",
    "    Args:\n",
    "        file_path (str): The path to the CSV file to read.\n",
    "        source_column (str, optional): The name of the column in the CSV file that contains the text data. Defaults to \"Description\".\n",
    "\n",
    "    Returns:\n",
    "        List[Document]: A list of Documents, where each Document contains the text data from the corresponding row in the CSV file.\n",
    "\n",
    "    Raises:\n",
    "        FileNotFoundError: If the CSV file does not exist.\n",
    "        IOError: If there is an error reading the CSV file.\n",
    "    \"\"\"\n",
    "\n",
    "    if not os.path.exists(file_path):\n",
    "        raise FileNotFoundError(f\"File does not exist: {file_path}\")\n",
    "\n",
    "    loader = CSVLoader(file_path=file_path, source_column=source_column)\n",
    "    data = loader.load()\n",
    "\n",
    "    return data"
   ]
  },
  {
   "cell_type": "markdown",
   "metadata": {},
   "source": [
    "## 임베딩 모델 불러오기 "
   ]
  },
  {
   "cell_type": "code",
   "execution_count": null,
   "metadata": {},
   "outputs": [],
   "source": [
    "from langchain_huggingface import HuggingFaceEmbeddings\n",
    "#reference: https://python.langchain.com/docs/integrations/providers/huggingface/#huggingfaceembeddings\n",
    "# model_name = \"intfloat/multilingual-e5-large-instruct\"\n",
    "model_name = 'intfloat/multilingual-e5-large' # intfloat/multilingual-e5-large\n",
    "\n",
    "# Function to load embeddings model\n",
    "def load_embeddings_model(model_name: str) -> HuggingFaceEmbeddings:\n",
    "    \"\"\"Loads a Hugging Face Transformer model and returns an Embeddings object.\n",
    "\n",
    "    Args:\n",
    "        model_name (str): The name of the Hugging Face Transformer model to load.\n",
    "\n",
    "    Returns:\n",
    "        HuggingFaceEmbeddings: An Embeddings object that can be used to encode text into embeddings.\n",
    "    \"\"\"\n",
    "    embedding_function = HuggingFaceEmbeddings(\n",
    "        model_name=model_name,\n",
    "        huggingfacehub_api_token=os.environ[\"api_key\"], #토큰업데이트\n",
    "        model_kwargs={'device':'cpu'},\n",
    "        encode_kwargs={'normalize_embeddings':True}\n",
    "    )\n",
    "    return embedding_function\n"
   ]
  },
  {
   "cell_type": "markdown",
   "metadata": {},
   "source": [
    "### 토큰 접속\n",
    "- reference: https://huggingface.co/docs/hub/security-tokens"
   ]
  },
  {
   "cell_type": "markdown",
   "metadata": {},
   "source": [
    "# 임베딩 테스트"
   ]
  },
  {
   "cell_type": "markdown",
   "metadata": {},
   "source": [
    "- intfloat/multilingual-e5-large\n",
    "- 고성능 모델이라고 함 그래서 시간이 오래 걸리는 듯?"
   ]
  },
  {
   "cell_type": "code",
   "execution_count": 186,
   "metadata": {},
   "outputs": [
    {
     "name": "stdout",
     "output_type": "stream",
     "text": [
      "[ 0.00283389 -0.00129713 -0.02809599]\n"
     ]
    }
   ],
   "source": [
    "from sentence_transformers import SentenceTransformer\n",
    "\n",
    "# 모델 선택\n",
    "model_name = 'intfloat/multilingual-e5-large' # \n",
    "embeddings = SentenceTransformer(model_name)\n",
    "\n",
    "# 임베딩 테스트\n",
    "text = \"This is a test document.\"\n",
    "query_result = embeddings.encode(text)  \n",
    "print(query_result[:3])  \n"
   ]
  },
  {
   "cell_type": "markdown",
   "metadata": {},
   "source": [
    "# 문서 벡터화?"
   ]
  },
  {
   "cell_type": "code",
   "execution_count": 187,
   "metadata": {},
   "outputs": [],
   "source": [
    "def vectorize_documents(data: List[Document], embedding_function: HuggingFaceEmbeddings) -> Chroma:\n",
    "    \"\"\"Vectorizes a list of Documents using a Hugging Face Transformer model.\n",
    "\n",
    "    Args:\n",
    "        data (List[Document]): A list of Documents to vectorize.\n",
    "        embedding_function (HuggingFaceEmbeddings): An Embeddings object that can be used to encode text into embeddings.\n",
    "\n",
    "    Returns:\n",
    "        Chroma: A Chroma object that contains the vectorized documents.\n",
    "    \"\"\"\n",
    "\n",
    "    ## Chroma, as a vector database, cosine similarity by default for searches.\n",
    "    db = Chroma.from_documents(data, embedding=embedding_function, \n",
    "                            #    collection_metadata={\"hnsw:space\": \"l2\"}\n",
    "                               collection_metadata={\"hnsw:space\": \"cosine\"}\n",
    "                               )\n",
    "    return db"
   ]
  },
  {
   "cell_type": "markdown",
   "metadata": {},
   "source": [
    "#### 벡터 스토어 임베딩 데이터 저장"
   ]
  },
  {
   "cell_type": "code",
   "execution_count": 188,
   "metadata": {},
   "outputs": [],
   "source": [
    "import pandas as pd\n",
    "from langchain.schema import Document\n",
    "\n",
    "def read_csv_with_macroman(file_path, source_column):\n",
    "    \"\"\"Reads a CSV file with MacRoman encoding and converts to Document objects.\"\"\"\n",
    "    try:\n",
    "        df = pd.read_csv(file_path, encoding='MacRoman')\n",
    "        if source_column not in df.columns:\n",
    "            raise ValueError(f\"Column '{source_column}' not found in the CSV file.\")\n",
    "        return [Document(page_content=row[source_column]) for _, row in df.iterrows()]\n",
    "    except Exception as e:\n",
    "        raise RuntimeError(f\"Error reading CSV with MacRoman encoding: {e}\")\n"
   ]
  },
  {
   "cell_type": "code",
   "execution_count": 189,
   "metadata": {},
   "outputs": [],
   "source": [
    "def init_llm():\n",
    "    \"\"\"Initializes the LLM by reading the CSV file, loading the embeddings model, and vectorizing the documents.\n",
    "\n",
    "    Returns:\n",
    "        Chroma: A Chroma object that contains the vectorized documents.\n",
    "    \"\"\"\n",
    "    file_path = 'amazon_rag.csv'\n",
    "    source_column = 'product_name'\n",
    "    try:\n",
    "        # MacRoman 인코딩으로 데이터 로드\n",
    "        data = read_csv_with_macroman(file_path, source_column)\n",
    "        if not data:\n",
    "            raise ValueError(\"No data found in the CSV file.\")\n",
    "    except Exception as e:\n",
    "        raise RuntimeError(f\"Error loading data: {e}\")\n",
    "\n",
    "    # 모델 로드\n",
    "    model_name = 'sentence-transformers/all-mpnet-base-v2'\n",
    "    embedding_function = load_embeddings_model(model_name)\n",
    "\n",
    "    # 데이터 벡터화\n",
    "    try:\n",
    "        db = vectorize_documents(data, embedding_function)\n",
    "    except Exception as e:\n",
    "        raise RuntimeError(f\"Error vectorizing documents: {e}\")\n",
    "\n",
    "    return db\n"
   ]
  },
  {
   "cell_type": "code",
   "execution_count": null,
   "metadata": {},
   "outputs": [
    {
     "name": "stdout",
     "output_type": "stream",
     "text": [
      "Hugging Face Token: None\n"
     ]
    }
   ],
   "source": [
    "import os\n",
    "print(\"Hugging Face Token:\", os.environ.get(\"api_key\"))\n"
   ]
  },
  {
   "cell_type": "code",
   "execution_count": null,
   "metadata": {},
   "outputs": [],
   "source": [
    "db = init_llm()"
   ]
  },
  {
   "cell_type": "markdown",
   "metadata": {},
   "source": [
    "# 위 내용에서 api key에서 에러가 남 이유를 모르겠음."
   ]
  },
  {
   "cell_type": "markdown",
   "metadata": {},
   "source": [
    "# 비슷한 내용 검색"
   ]
  },
  {
   "cell_type": "code",
   "execution_count": null,
   "metadata": {},
   "outputs": [],
   "source": [
    "# Query the vector database\n",
    "query = \"iPhone USB charger and adapter\"\n",
    "found_docs = db.similarity_search_with_score(query, k=5)\n"
   ]
  },
  {
   "cell_type": "code",
   "execution_count": null,
   "metadata": {},
   "outputs": [],
   "source": [
    "# Load documents\n",
    "found_docs"
   ]
  },
  {
   "cell_type": "markdown",
   "metadata": {},
   "source": [
    "# 프롬프트 생성"
   ]
  },
  {
   "cell_type": "code",
   "execution_count": null,
   "metadata": {},
   "outputs": [
    {
     "name": "stderr",
     "output_type": "stream",
     "text": [
      "Loading checkpoint shards: 100%|██████████| 2/2 [00:07<00:00,  3.61s/it]\n"
     ]
    }
   ],
   "source": [
    "from transformers import AutoTokenizer\n",
    "import transformers \n",
    "import torch\n",
    "\n",
    "model = \"ArliAI/Gemma-2-2B-ArliAI-RPMax-v1.1\"#'ArliAI/Mistral-Small-22B-ArliAI-RPMax-v1.1'\n",
    "tokenizer = AutoTokenizer.from_pretrained(\n",
    "    model,  \n",
    "    use_auth_token= \"api_key\", \n",
    ")\n",
    "\n",
    "# pipeline without device_map\n",
    "pipeline = transformers.pipeline(\n",
    "    \"text-generation\",\n",
    "    model=model,\n",
    "    torch_dtype=torch.float16 if torch.cuda.is_available() else None,  # GPU 사용 가능 여부에 따라 설정\n",
    "    device=0 if torch.cuda.is_available() else -1,  # GPU(0) 또는 CPU(-1) 선택\n",
    ")\n",
    "\n"
   ]
  },
  {
   "cell_type": "code",
   "execution_count": 199,
   "metadata": {},
   "outputs": [],
   "source": [
    "from langchain_community.llms.huggingface_pipeline import HuggingFacePipeline\n",
    "\n",
    "hf = HuggingFacePipeline(pipeline=pipeline)\n"
   ]
  },
  {
   "cell_type": "code",
   "execution_count": 203,
   "metadata": {},
   "outputs": [
    {
     "name": "stdout",
     "output_type": "stream",
     "text": [
      "\n",
      "You are a customer service assistant, tasked with providing clear and concise answers based on the given context. \n",
      "Context:\n",
      "Your order is currently being processed and is expected to ship within 2-3 business days.\n",
      "Question:\n",
      "My delivery is delayed. Can you check the status of my order?\n",
      "Answer:\n",
      "\n"
     ]
    }
   ],
   "source": [
    "from langchain.prompts import PromptTemplate\n",
    "from langchain_core.output_parsers import StrOutputParser\n",
    "from langchain import PromptTemplate\n",
    "\n",
    "promptTemplate_fstring = \"\"\"\n",
    "You are a customer service assistant, tasked with providing clear and concise answers based on the given context. \n",
    "Context:\n",
    "{context}\n",
    "Question:\n",
    "{query}\n",
    "Answer:\n",
    "\"\"\"\n",
    "\n",
    "# Example usage\n",
    "context = \"Your order is currently being processed and is expected to ship within 2-3 business days.\"\n",
    "query = \"My delivery is delayed. Can you check the status of my order?\"\n",
    "\n",
    "\n",
    "prompt = promptTemplate_fstring.format(context=context, query=query)\n",
    "print(prompt)\n"
   ]
  },
  {
   "cell_type": "code",
   "execution_count": 209,
   "metadata": {},
   "outputs": [
    {
     "name": "stdout",
     "output_type": "stream",
     "text": [
      "input_variables=['question'] input_types={} partial_variables={} template='Question: {question}\\nAnswer:'\n"
     ]
    },
    {
     "name": "stderr",
     "output_type": "stream",
     "text": [
      "c:\\Users\\tlsgu\\AppData\\Local\\Programs\\Python\\Python312\\Lib\\site-packages\\transformers\\generation\\utils.py:1375: UserWarning: Using the model-agnostic default `max_length` (=20) to control the generation length. We recommend setting `max_new_tokens` to control the maximum length of the generation.\n",
      "  warnings.warn(\n"
     ]
    },
    {
     "name": "stdout",
     "output_type": "stream",
     "text": [
      "Question: Where is my home?\n",
      "Answer: Well, you can look it up on Google\n"
     ]
    }
   ],
   "source": [
    "from langchain_core.prompts import PromptTemplate\n",
    "\n",
    "template = \"\"\"Question: {question}\n",
    "Answer:\"\"\"\n",
    "\n",
    "prompt = PromptTemplate.from_template(template)\n",
    "print(prompt)\n",
    "chain = prompt | hf\n",
    "\n",
    "question = \"Where is my home?\"\n",
    "\n",
    "print(chain.invoke({\"question\": question}))"
   ]
  },
  {
   "cell_type": "code",
   "execution_count": 205,
   "metadata": {},
   "outputs": [
    {
     "ename": "NameError",
     "evalue": "name 'run_vector_search' is not defined",
     "output_type": "error",
     "traceback": [
      "\u001b[1;31m---------------------------------------------------------------------------\u001b[0m",
      "\u001b[1;31mNameError\u001b[0m                                 Traceback (most recent call last)",
      "Cell \u001b[1;32mIn[205], line 10\u001b[0m\n\u001b[0;32m      5\u001b[0m query \u001b[38;5;241m=\u001b[39m \u001b[38;5;124m\"\u001b[39m\u001b[38;5;124msuggest cool iPhone USB charger and adapter\u001b[39m\u001b[38;5;124m\"\u001b[39m\n\u001b[0;32m      6\u001b[0m \u001b[38;5;66;03m# query = \"what is the iphone cable?\"\u001b[39;00m\n\u001b[0;32m      7\u001b[0m \u001b[38;5;66;03m# query = \"What is the caracteristic of iPhone USB charger and adapter\"\u001b[39;00m\n\u001b[0;32m      8\u001b[0m \n\u001b[0;32m      9\u001b[0m \u001b[38;5;66;03m# Perform vector search\u001b[39;00m\n\u001b[1;32m---> 10\u001b[0m doc_context \u001b[38;5;241m=\u001b[39m \u001b[43mrun_vector_search\u001b[49m(query)\n\u001b[0;32m     12\u001b[0m \u001b[38;5;66;03m# Extract relevant columns\u001b[39;00m\n\u001b[0;32m     13\u001b[0m doc \u001b[38;5;241m=\u001b[39m doc_context[[\u001b[38;5;124m'\u001b[39m\u001b[38;5;124mproduct_name\u001b[39m\u001b[38;5;124m'\u001b[39m, \u001b[38;5;124m'\u001b[39m\u001b[38;5;124mabout_product\u001b[39m\u001b[38;5;124m'\u001b[39m]]\n",
      "\u001b[1;31mNameError\u001b[0m: name 'run_vector_search' is not defined"
     ]
    }
   ],
   "source": [
    "from langchain.chains import LLMChain\n",
    "from langchain.prompts import PromptTemplate\n",
    "\n",
    "# Query definition\n",
    "query = \"suggest cool iPhone USB charger and adapter\"\n",
    "# query = \"what is the iphone cable?\"\n",
    "# query = \"What is the caracteristic of iPhone USB charger and adapter\"\n",
    "\n",
    "# Perform vector search\n",
    "doc_context = run_vector_search(query)\n",
    "\n",
    "# Extract relevant columns\n",
    "doc = doc_context[['product_name', 'about_product']]\n",
    "# doc = doc_context[[ 'about_product']]\n",
    "\n",
    "# print(doc)\n",
    "# Convert context to string\n",
    "context = doc.to_string(index=False)\n",
    "\n",
    "#You are an assistant in customer service. Use the following context to answer the question:\n",
    "\n",
    "# Define the prompt template\n",
    "# promptTemplate_fstring = \"\"\"\n",
    "# Context:\n",
    "# {context}\n",
    "# Question:\n",
    "# {query}\n",
    "# Answer:\n",
    "# \"\"\"\n",
    "\n",
    "promptTemplate_fstring = \"\"\"\n",
    "You are a customer service assistant, tasked with providing clear and concise answers based on the given context. \n",
    "Context:\n",
    "{context}\n",
    "Question:\n",
    "{query}\n",
    "Answer:\n",
    "\"\"\"\n",
    "\n",
    "# Initialize the prompt\n",
    "prompt = PromptTemplate(\n",
    "    # input_variables=[\"query\", \"context\"],\n",
    "    template=promptTemplate_fstring,\n",
    ")\n",
    "\n",
    "# print(prompt)\n",
    "# Create the chain\n",
    "chain = LLMChain(prompt=prompt, llm=hf)\n",
    "\n",
    "# Run the chain and get the response\n",
    "response = chain.run({\"query\": query, \"context\": context})\n",
    "\n",
    "# Print the response\n",
    "print(response)"
   ]
  }
 ],
 "metadata": {
  "kernelspec": {
   "display_name": "Python 3",
   "language": "python",
   "name": "python3"
  },
  "language_info": {
   "codemirror_mode": {
    "name": "ipython",
    "version": 3
   },
   "file_extension": ".py",
   "mimetype": "text/x-python",
   "name": "python",
   "nbconvert_exporter": "python",
   "pygments_lexer": "ipython3",
   "version": "3.12.6"
  }
 },
 "nbformat": 4,
 "nbformat_minor": 2
}
