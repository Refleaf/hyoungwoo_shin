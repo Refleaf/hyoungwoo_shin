{
 "cells": [
  {
   "cell_type": "code",
   "execution_count": 14,
   "metadata": {},
   "outputs": [],
   "source": [
    "import pandas as pd\n",
    "import matplotlib.pyplot as plt\n",
    "import statsmodels.stats.api as sms\n",
    "from statsmodels.stats.proportion import proportions_ztest\n",
    "from scipy.stats import shapiro, levene, mannwhitneyu"
   ]
  },
  {
   "cell_type": "markdown",
   "metadata": {},
   "source": [
    "# 데이터 확인"
   ]
  },
  {
   "cell_type": "code",
   "execution_count": 12,
   "metadata": {},
   "outputs": [
    {
     "data": {
      "text/html": [
       "<div>\n",
       "<style scoped>\n",
       "    .dataframe tbody tr th:only-of-type {\n",
       "        vertical-align: middle;\n",
       "    }\n",
       "\n",
       "    .dataframe tbody tr th {\n",
       "        vertical-align: top;\n",
       "    }\n",
       "\n",
       "    .dataframe thead th {\n",
       "        text-align: right;\n",
       "    }\n",
       "</style>\n",
       "<table border=\"1\" class=\"dataframe\">\n",
       "  <thead>\n",
       "    <tr style=\"text-align: right;\">\n",
       "      <th></th>\n",
       "      <th>user_id</th>\n",
       "      <th>timestamp</th>\n",
       "      <th>group</th>\n",
       "      <th>landing_page</th>\n",
       "      <th>converted</th>\n",
       "    </tr>\n",
       "  </thead>\n",
       "  <tbody>\n",
       "    <tr>\n",
       "      <th>0</th>\n",
       "      <td>851104</td>\n",
       "      <td>11:48.6</td>\n",
       "      <td>control</td>\n",
       "      <td>old_page</td>\n",
       "      <td>0</td>\n",
       "    </tr>\n",
       "    <tr>\n",
       "      <th>1</th>\n",
       "      <td>804228</td>\n",
       "      <td>01:45.2</td>\n",
       "      <td>control</td>\n",
       "      <td>old_page</td>\n",
       "      <td>0</td>\n",
       "    </tr>\n",
       "    <tr>\n",
       "      <th>2</th>\n",
       "      <td>661590</td>\n",
       "      <td>55:06.2</td>\n",
       "      <td>treatment</td>\n",
       "      <td>new_page</td>\n",
       "      <td>0</td>\n",
       "    </tr>\n",
       "    <tr>\n",
       "      <th>3</th>\n",
       "      <td>853541</td>\n",
       "      <td>28:03.1</td>\n",
       "      <td>treatment</td>\n",
       "      <td>new_page</td>\n",
       "      <td>0</td>\n",
       "    </tr>\n",
       "    <tr>\n",
       "      <th>4</th>\n",
       "      <td>864975</td>\n",
       "      <td>52:26.2</td>\n",
       "      <td>control</td>\n",
       "      <td>old_page</td>\n",
       "      <td>1</td>\n",
       "    </tr>\n",
       "  </tbody>\n",
       "</table>\n",
       "</div>"
      ],
      "text/plain": [
       "   user_id timestamp      group landing_page  converted\n",
       "0   851104   11:48.6    control     old_page          0\n",
       "1   804228   01:45.2    control     old_page          0\n",
       "2   661590   55:06.2  treatment     new_page          0\n",
       "3   853541   28:03.1  treatment     new_page          0\n",
       "4   864975   52:26.2    control     old_page          1"
      ]
     },
     "execution_count": 12,
     "metadata": {},
     "output_type": "execute_result"
    }
   ],
   "source": [
    "data = pd.read_csv('ab_data.csv')\n",
    "data.head()"
   ]
  },
  {
   "cell_type": "code",
   "execution_count": 13,
   "metadata": {},
   "outputs": [
    {
     "name": "stdout",
     "output_type": "stream",
     "text": [
      "<class 'pandas.core.frame.DataFrame'>\n",
      "RangeIndex: 294480 entries, 0 to 294479\n",
      "Data columns (total 5 columns):\n",
      " #   Column        Non-Null Count   Dtype \n",
      "---  ------        --------------   ----- \n",
      " 0   user_id       294480 non-null  int64 \n",
      " 1   timestamp     294480 non-null  object\n",
      " 2   group         294480 non-null  object\n",
      " 3   landing_page  294480 non-null  object\n",
      " 4   converted     294480 non-null  int64 \n",
      "dtypes: int64(2), object(3)\n",
      "memory usage: 11.2+ MB\n"
     ]
    }
   ],
   "source": [
    "data.info()"
   ]
  },
  {
   "cell_type": "markdown",
   "metadata": {},
   "source": [
    "# Step 1: 실험 목표 정의\n",
    "\n",
    "- 목표: 새로운 웹페이지 디자인(new_page)이 기존 웹페이지(old_page)보다 더 높은 전환율(converted)을 달성하는지 확인한다.\n",
    "- 성과 지표: 전환율(Conversion Rate), 즉 특정 행동(예: 구매, 회원가입)을 완료한 사용자의 비율.\n",
    "- 성과 기준: 새로운 웹페이지의 전환율이 기존 페이지보다 통계적으로 유의미하게 높아야 한다."
   ]
  },
  {
   "cell_type": "markdown",
   "metadata": {},
   "source": [
    "# Sept 2: 그룹 이해\n",
    "\n",
    "- 그룹: Control 그룹, Treatment 그룹\n",
    "- Control 그룹: 기존 웹페이지(old_page)를 본 사용자\n",
    "- Treatment 그룹: 새롭게 디자인된 웹페이지(new_page)를 본 사용자"
   ]
  },
  {
   "cell_type": "markdown",
   "metadata": {},
   "source": [
    "# Sept 3: 공식 가설\n",
    "- 가설 1: 두 그룹간의 전환율에 차이가 없다.\n",
    "- 가설 2: 새로운 웹페이지의 전환율이 기존 웹페이지의 전환율 보다 높다. "
   ]
  },
  {
   "cell_type": "markdown",
   "metadata": {},
   "source": [
    "# Sept 4: 지표 분석"
   ]
  },
  {
   "cell_type": "code",
   "execution_count": null,
   "metadata": {},
   "outputs": [
    {
     "name": "stdout",
     "output_type": "stream",
     "text": [
      "Control 그룹의 전환율 (old_page): 12.04%\n"
     ]
    }
   ],
   "source": [
    "# 데이터 불러오기\n",
    "df = pd.read_csv(\"ab_data.csv\")\n",
    "\n",
    "# old_page(=Control 그룹) 필터링\n",
    "control_group = df[(df['group'] == 'control') & (df['landing_page'] == 'old_page')]\n",
    "\n",
    "# Control 그룹의 전환율 계산\n",
    "control_conversion_rate = control_group['converted'].mean()\n",
    "\n",
    "print(f\"Control 그룹의 전환율 (old_page): {control_conversion_rate:.2%}\")\n"
   ]
  },
  {
   "cell_type": "code",
   "execution_count": null,
   "metadata": {},
   "outputs": [
    {
     "name": "stdout",
     "output_type": "stream",
     "text": [
      "Control 그룹의 전환율 (new_page): 12.14%\n"
     ]
    }
   ],
   "source": [
    "# 데이터 불러오기\n",
    "df = pd.read_csv(\"ab_data.csv\")\n",
    "\n",
    "# control 그룹의 new_page 필터링\n",
    "control_new_page_group = df[(df['group'] == 'control') & (df['landing_page'] == 'new_page')]\n",
    "\n",
    "# control 그룹의 new_page 전환율 계산\n",
    "control_new_page_conversion_rate = control_new_page_group['converted'].mean()\n",
    "\n",
    "print(f\"Control 그룹의 전환율 (new_page): {control_new_page_conversion_rate:.2%}\")\n"
   ]
  },
  {
   "cell_type": "code",
   "execution_count": null,
   "metadata": {},
   "outputs": [
    {
     "name": "stdout",
     "output_type": "stream",
     "text": [
      "Treatment 그룹의 전환율 (new_page): 11.88%\n"
     ]
    }
   ],
   "source": [
    "# 데이터 불러오기\n",
    "df = pd.read_csv(\"ab_data.csv\")\n",
    "\n",
    "# new_page(=Treatment 그룹) 필터링\n",
    "treatment_group = df[(df['group'] == 'treatment') & (df['landing_page'] == 'new_page')]\n",
    "\n",
    "# Treatment 그룹의 전환율 계산\n",
    "treatment_conversion_rate = treatment_group['converted'].mean()\n",
    "\n",
    "print(f\"Treatment 그룹의 전환율 (new_page): {treatment_conversion_rate:.2%}\")\n"
   ]
  },
  {
   "cell_type": "code",
   "execution_count": null,
   "metadata": {},
   "outputs": [
    {
     "name": "stdout",
     "output_type": "stream",
     "text": [
      "Treatment 그룹의 전환율 (old_page): 12.72%\n"
     ]
    }
   ],
   "source": [
    "# 데이터 불러오기\n",
    "df = pd.read_csv(\"ab_data.csv\")\n",
    "\n",
    "# Treatment 그룹의 old_page 필터링\n",
    "treatment_old_page_group = df[(df['group'] == 'treatment') & (df['landing_page'] == 'old_page')]\n",
    "\n",
    "# Treatment 그룹의 old_page 전환율 계산\n",
    "treatment_old_page_conversion_rate = treatment_old_page_group['converted'].mean()\n",
    "\n",
    "print(f\"Treatment 그룹의 전환율 (old_page): {treatment_old_page_conversion_rate:.2%}\")\n"
   ]
  },
  {
   "cell_type": "code",
   "execution_count": null,
   "metadata": {},
   "outputs": [
    {
     "data": {
      "image/png": "[encoded data removed]",
      "text/plain": [
       "<Figure size 1000x600 with 1 Axes>"
      ]
     },
     "metadata": {},
     "output_type": "display_data"
    }
   ],
   "source": [
    "# 데이터 불러오기\n",
    "df = pd.read_csv(\"ab_data.csv\")\n",
    "\n",
    "# 각 그룹 필터링 및 전환율 계산\n",
    "control_old_page = df[(df['group'] == 'control') & (df['landing_page'] == 'old_page')]['converted'].mean()\n",
    "control_new_page = df[(df['group'] == 'control') & (df['landing_page'] == 'new_page')]['converted'].mean()\n",
    "treatment_new_page = df[(df['group'] == 'treatment') & (df['landing_page'] == 'new_page')]['converted'].mean()\n",
    "treatment_old_page = df[(df['group'] == 'treatment') & (df['landing_page'] == 'old_page')]['converted'].mean()\n",
    "\n",
    "# 전환율 데이터\n",
    "conversion_rates = {\n",
    "    \"Control - old_page\": control_old_page,\n",
    "    \"Control - new_page\": control_new_page,\n",
    "    \"Treatment - new_page\": treatment_new_page,\n",
    "    \"Treatment - old_page\": treatment_old_page,\n",
    "}\n",
    "\n",
    "# 데이터 시각화\n",
    "plt.figure(figsize=(10, 6))\n",
    "bars = plt.bar(conversion_rates.keys(), conversion_rates.values(), color=['blue', 'orange', 'green', 'red'], alpha=0.7)\n",
    "\n",
    "# 그래프 세부 설정\n",
    "plt.title('Conversion Rates by Group and Page', fontsize=16)\n",
    "plt.ylabel('Conversion Rate', fontsize=12)\n",
    "plt.xlabel('Group and Page', fontsize=12)\n",
    "plt.ylim(0, max(conversion_rates.values()) + 0.05)  # Y축 여유 추가\n",
    "plt.xticks(fontsize=10, rotation=15)\n",
    "plt.yticks(fontsize=10)\n",
    "\n",
    "# 막대 위에 전환율 표시\n",
    "for bar in bars:\n",
    "    plt.text(bar.get_x() + bar.get_width()/2 - 0.1,\n",
    "             bar.get_height() + 0.005,\n",
    "             f\"{bar.get_height():.2%}\",\n",
    "             fontsize=10)\n",
    "\n",
    "# 그래프 출력\n",
    "plt.tight_layout()\n",
    "plt.show()\n"
   ]
  },
  {
   "cell_type": "markdown",
   "metadata": {},
   "source": [
    "# Sept 5: 통계 테스트"
   ]
  },
  {
   "cell_type": "code",
   "execution_count": null,
   "metadata": {},
   "outputs": [
    {
     "name": "stdout",
     "output_type": "stream",
     "text": [
      "=== 그룹별 정보 ===\n",
      "Control - old_page 사용자 수: 145274, 전환된 사용자 수: 17489\n",
      "Control - new_page 사용자 수: 1928, 전환된 사용자 수: 234\n",
      "Treatment - new_page 사용자 수: 145313, 전환된 사용자 수: 17264\n",
      "Treatment - old_page 사용자 수: 1965, 전환된 사용자 수: 250\n",
      "\n",
      "=== Z 검정 결과 ===\n",
      "Z-통계량: 1.3130\n",
      "P-값: 0.1892\n",
      "P-값이 유의 수준보다 크므로, 두 그룹의 전환율 차이는 통계적으로 유의하지 않습니다.\n"
     ]
    }
   ],
   "source": [
    "# 데이터 불러오기\n",
    "df = pd.read_csv(\"ab_data.csv\")\n",
    "\n",
    "# 그룹별 사용자 수 및 전환된 사용자 수 계산\n",
    "control_old = df[(df['group'] == 'control') & (df['landing_page'] == 'old_page')]\n",
    "control_new = df[(df['group'] == 'control') & (df['landing_page'] == 'new_page')]\n",
    "treatment_new = df[(df['group'] == 'treatment') & (df['landing_page'] == 'new_page')]\n",
    "treatment_old = df[(df['group'] == 'treatment') & (df['landing_page'] == 'old_page')]\n",
    "\n",
    "# 그룹별 총 사용자 수\n",
    "n_control_old = control_old.shape[0]\n",
    "n_control_new = control_new.shape[0]\n",
    "n_treatment_new = treatment_new.shape[0]\n",
    "n_treatment_old = treatment_old.shape[0]\n",
    "\n",
    "# 그룹별 전환된 사용자 수\n",
    "success_control_old = control_old['converted'].sum()\n",
    "success_control_new = control_new['converted'].sum()\n",
    "success_treatment_new = treatment_new['converted'].sum()\n",
    "success_treatment_old = treatment_old['converted'].sum()\n",
    "\n",
    "# 두 그룹 비교 (예: Control - old_page vs Treatment - new_page)\n",
    "success = [success_control_old, success_treatment_new]\n",
    "nobs = [n_control_old, n_treatment_new]\n",
    "\n",
    "# Z-검정\n",
    "z_stat, p_value = proportions_ztest(success, nobs)\n",
    "\n",
    "print(\"=== 그룹별 정보 ===\")\n",
    "print(f\"Control - old_page 사용자 수: {n_control_old}, 전환된 사용자 수: {success_control_old}\")\n",
    "print(f\"Control - new_page 사용자 수: {n_control_new}, 전환된 사용자 수: {success_control_new}\")\n",
    "print(f\"Treatment - new_page 사용자 수: {n_treatment_new}, 전환된 사용자 수: {success_treatment_new}\")\n",
    "print(f\"Treatment - old_page 사용자 수: {n_treatment_old}, 전환된 사용자 수: {success_treatment_old}\")\n",
    "\n",
    "print(\"\\n=== Z 검정 결과 ===\")\n",
    "print(f\"Z-통계량: {z_stat:.4f}\")\n",
    "print(f\"P-값: {p_value:.4f}\")\n",
    "\n",
    "# 결과 해석\n",
    "alpha = 0.05\n",
    "if p_value < alpha:\n",
    "    print(\"P-값이 유의 수준보다 작으므로, 두 그룹의 전환율 차이는 통계적으로 유의합니다.\")\n",
    "else:\n",
    "    print(\"P-값이 유의 수준보다 크므로, 두 그룹의 전환율 차이는 통계적으로 유의하지 않습니다.\")\n"
   ]
  }
 ],
 "metadata": {
  "kernelspec": {
   "display_name": "Python 3",
   "language": "python",
   "name": "python3"
  },
  "language_info": {
   "codemirror_mode": {
    "name": "ipython",
    "version": 3
   },
   "file_extension": ".py",
   "mimetype": "text/x-python",
   "name": "python",
   "nbconvert_exporter": "python",
   "pygments_lexer": "ipython3",
   "version": "3.12.6"
  }
 },
 "nbformat": 4,
 "nbformat_minor": 2
}
